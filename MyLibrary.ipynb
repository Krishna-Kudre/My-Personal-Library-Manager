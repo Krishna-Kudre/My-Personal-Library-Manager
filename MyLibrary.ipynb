{
 "cells": [
  {
   "cell_type": "code",
   "execution_count": 1,
   "id": "8cb632d0-5cd5-4a15-9655-7a93e0ff56e3",
   "metadata": {},
   "outputs": [],
   "source": [
    "import os"
   ]
  },
  {
   "cell_type": "code",
   "execution_count": 2,
   "id": "41be18fe-0c91-4339-909e-4d7204300501",
   "metadata": {},
   "outputs": [],
   "source": [
    "library = []\n",
    "\n",
    "# Function to Add Books\n",
    "def add_book(title, author, genre, year, status=\"unread\"):\n",
    "    book = {\n",
    "        \"title\": title.strip(),\n",
    "        \"author\": author.strip(),\n",
    "        \"genre\": genre.strip(),\n",
    "        \"year\": int(year),\n",
    "        \"status\": status.lower()\n",
    "    }\n",
    "    library.append(book)\n",
    "    print(f\"Book '{title}' added.\")\n",
    "\n",
    "#  Function to List Books\n",
    "def list_books(sorted_by_year=False):\n",
    "    if not library:\n",
    "        print(\"Library is empty.\")\n",
    "        return\n",
    "    books = sorted(library, key=lambda x: x['year']) if sorted_by_year else library\n",
    "    for idx, book in enumerate(books, start=1):\n",
    "        print(f\"{idx}. {book['title']} by {book['author']} [{book['genre']}, {book['year']}] - {book['status'].capitalize()}\")"
   ]
  },
  {
   "cell_type": "code",
   "execution_count": 3,
   "id": "1040ea72-2a3a-43cf-a742-d432691dfc02",
   "metadata": {},
   "outputs": [],
   "source": [
    "#  Function Search by Author\n",
    "def search_by_author(author_name):\n",
    "    return [book for book in library if author_name.lower() in book['author'].lower()]"
   ]
  },
  {
   "cell_type": "code",
   "execution_count": 4,
   "id": "d559935d-34d4-4a44-80be-3aa0435c4fe3",
   "metadata": {},
   "outputs": [],
   "source": [
    "#  Function to Delete Book\n",
    "def delete_book(title):\n",
    "    global library\n",
    "    library = list(filter(lambda book: book['title'].lower() != title.lower(), library))\n",
    "    print(f\"Book titled '{title}' has been removed if it existed.\")"
   ]
  },
  {
   "cell_type": "code",
   "execution_count": 5,
   "id": "b7fb8989-38bf-4309-8882-70fde9a6bd50",
   "metadata": {},
   "outputs": [],
   "source": [
    "# Show Reading Summary\n",
    "def show_reading_summary():\n",
    "    if not library:\n",
    "        print(\"No books in library.\")\n",
    "        return\n",
    "    read = len(list(filter(lambda x: x['status'] == 'read', library)))\n",
    "    unread = len(library) - read\n",
    "    print(f\"Read: {read} books ({(read/len(library))*100:.2f}%)\")\n",
    "    print(f\"Unread: {unread} books ({(unread/len(library))*100:.2f}%)\")\n",
    "\n",
    "\n",
    "#  Convert Titles of the Books to Capital Letter\n",
    "def uppercase_titles():\n",
    "    titles = list(map(lambda b: b['title'].upper(), library))\n",
    "    print(\"Book Titles (UPPERCASE):\")\n",
    "    for title in titles:\n",
    "        print(\"-\", title)\n"
   ]
  },
  {
   "cell_type": "code",
   "execution_count": 6,
   "id": "6e8c0db3-13ce-4dfb-bbc5-45e99686f87c",
   "metadata": {},
   "outputs": [],
   "source": [
    "#  Function to Save library of books to a file\n",
    "def save_to_file(filename):\n",
    "    try:\n",
    "        with open(filename, 'w') as f:\n",
    "            \n",
    "            for book in library:\n",
    "                line = f\"{book['title']},{book['author']},{book['genre']},{book['year']},{book['status']}\"\n",
    "                f.write(line)\n",
    "        print(f\"Saved {len(library)} books to {filename}\")  # After saving all the books, this line prints a confirmation message.It says how many books were saved and the name of the file.\n",
    "    except Exception as e:\n",
    "        print(\"Error saving file:\", e)\n",
    "\n",
    "\n",
    "#  Loading Book Data from a File\n",
    "def load_from_file(filename):\n",
    "    if not os.path.exists(filename):\n",
    "        print(\"File not found. Starting with an empty library.\")\n",
    "        return\n",
    "    try:\n",
    "        with open(filename, 'r') as f:\n",
    "            for line in f:\n",
    "                title, author, genre, year, status = line.strip().split(',')\n",
    "                add_book(title, author, genre, int(year), status)\n",
    "    except Exception as e:\n",
    "        print(\"Error reading file:\", e)"
   ]
  },
  {
   "cell_type": "code",
   "execution_count": null,
   "id": "51be66ad-ccc2-4d2c-a12b-d40adce0be4b",
   "metadata": {
    "scrolled": true
   },
   "outputs": [
    {
     "name": "stdout",
     "output_type": "stream",
     "text": [
      "\n",
      "--- Personal Library Menu ---\n",
      "1. Add Book\n",
      "2. List All Books\n",
      "3. List Books Sorted by Year\n",
      "4. Search by Author\n",
      "5. Delete Book by Title\n",
      "6. Show Reading Summary\n",
      "7. Show UPPERCASE Book Titles (map)\n",
      "8. Save Library\n",
      "9. Load Library\n",
      "10. Exit\n"
     ]
    },
    {
     "name": "stdin",
     "output_type": "stream",
     "text": [
      "Choose an option:  1\n",
      "Title:  Aladin and jin\n",
      "Author:  Adityacharya Chaturvedi\n",
      "Genre:  Story Book\n",
      "Year:  2019\n",
      "Status (read/unread):  Unread\n"
     ]
    },
    {
     "name": "stdout",
     "output_type": "stream",
     "text": [
      "Book 'Aladin and jin' added.\n",
      "\n",
      "--- Personal Library Menu ---\n",
      "1. Add Book\n",
      "2. List All Books\n",
      "3. List Books Sorted by Year\n",
      "4. Search by Author\n",
      "5. Delete Book by Title\n",
      "6. Show Reading Summary\n",
      "7. Show UPPERCASE Book Titles (map)\n",
      "8. Save Library\n",
      "9. Load Library\n",
      "10. Exit\n"
     ]
    },
    {
     "name": "stdin",
     "output_type": "stream",
     "text": [
      "Choose an option:  1\n",
      "Title:  My Car\n",
      "Author:  William Hookes\n",
      "Genre:  Story Book\n",
      "Year:  2022\n",
      "Status (read/unread):  read\n"
     ]
    },
    {
     "name": "stdout",
     "output_type": "stream",
     "text": [
      "Book 'My Car' added.\n",
      "\n",
      "--- Personal Library Menu ---\n",
      "1. Add Book\n",
      "2. List All Books\n",
      "3. List Books Sorted by Year\n",
      "4. Search by Author\n",
      "5. Delete Book by Title\n",
      "6. Show Reading Summary\n",
      "7. Show UPPERCASE Book Titles (map)\n",
      "8. Save Library\n",
      "9. Load Library\n",
      "10. Exit\n"
     ]
    },
    {
     "name": "stdin",
     "output_type": "stream",
     "text": [
      "Choose an option:  1\n",
      "Title:  The foolish man\n",
      "Author:  Davion D'souza\n",
      "Genre:  Biography\n",
      "Year:  2021\n",
      "Status (read/unread):  read\n"
     ]
    },
    {
     "name": "stdout",
     "output_type": "stream",
     "text": [
      "Book 'The foolish man' added.\n",
      "\n",
      "--- Personal Library Menu ---\n",
      "1. Add Book\n",
      "2. List All Books\n",
      "3. List Books Sorted by Year\n",
      "4. Search by Author\n",
      "5. Delete Book by Title\n",
      "6. Show Reading Summary\n",
      "7. Show UPPERCASE Book Titles (map)\n",
      "8. Save Library\n",
      "9. Load Library\n",
      "10. Exit\n"
     ]
    },
    {
     "name": "stdin",
     "output_type": "stream",
     "text": [
      "Choose an option:  1\n",
      "Title:  Engineering Python\n",
      "Author:  Dr.Python\n",
      "Genre:  Student Book\n",
      "Year:  2025\n",
      "Status (read/unread):  unread\n"
     ]
    },
    {
     "name": "stdout",
     "output_type": "stream",
     "text": [
      "Book 'Engineering Python' added.\n",
      "\n",
      "--- Personal Library Menu ---\n",
      "1. Add Book\n",
      "2. List All Books\n",
      "3. List Books Sorted by Year\n",
      "4. Search by Author\n",
      "5. Delete Book by Title\n",
      "6. Show Reading Summary\n",
      "7. Show UPPERCASE Book Titles (map)\n",
      "8. Save Library\n",
      "9. Load Library\n",
      "10. Exit\n"
     ]
    },
    {
     "name": "stdin",
     "output_type": "stream",
     "text": [
      "Choose an option:  1\n",
      "Title:  Parrot,King and Grandma\n",
      "Author:  Hiroshi Kyuma\n",
      "Genre:  Story Book\n",
      "Year:  2018\n",
      "Status (read/unread):  unread\n"
     ]
    },
    {
     "name": "stdout",
     "output_type": "stream",
     "text": [
      "Book 'Parrot,King and Grandma' added.\n",
      "\n",
      "--- Personal Library Menu ---\n",
      "1. Add Book\n",
      "2. List All Books\n",
      "3. List Books Sorted by Year\n",
      "4. Search by Author\n",
      "5. Delete Book by Title\n",
      "6. Show Reading Summary\n",
      "7. Show UPPERCASE Book Titles (map)\n",
      "8. Save Library\n",
      "9. Load Library\n",
      "10. Exit\n"
     ]
    }
   ],
   "source": [
    "# Building the Menu Function for Your Library App\n",
    "def menu():\n",
    "    while True:\n",
    "        print(\"\\n--- Personal Library Menu ---\")\n",
    "        print(\"1. Add Book\")\n",
    "        print(\"2. List All Books\")\n",
    "        print(\"3. List Books Sorted by Year\")\n",
    "        print(\"4. Search by Author\")\n",
    "        print(\"5. Delete Book by Title\")\n",
    "        print(\"6. Show Reading Summary\")\n",
    "        print(\"7. Show UPPERCASE Book Titles (map)\")\n",
    "        print(\"8. Save Library\")\n",
    "        print(\"9. Load Library\")\n",
    "        print(\"10. Exit\")\n",
    "        choice = input(\"Choose an option: \")\n",
    "\n",
    "        if choice == \"1\":\n",
    "            title = input(\"Title: \")\n",
    "            author = input(\"Author: \")\n",
    "            genre = input(\"Genre: \")\n",
    "            year = input(\"Year: \")\n",
    "            status = input(\"Status (read/unread): \")\n",
    "            add_book(title, author, genre, year, status)\n",
    "        elif choice == \"2\":\n",
    "            list_books()\n",
    "        elif choice == \"3\":\n",
    "            list_books(sorted_by_year=True)\n",
    "        elif choice == \"4\":\n",
    "            author = input(\"Enter author name: \")\n",
    "            results = search_by_author(author)\n",
    "            print(f\"\\n Found {len(results)} books by {author}:\")\n",
    "            for book in results:\n",
    "                print(f\"- {book['title']} ({book['year']})\")\n",
    "        elif choice == \"5\":\n",
    "            title = input(\"Enter title to delete: \")\n",
    "            delete_book(title)\n",
    "        elif choice == \"6\":\n",
    "            show_reading_summary()\n",
    "        elif choice == \"7\":\n",
    "            uppercase_titles()\n",
    "        elif choice == \"8\":\n",
    "            save_to_file(\"books_data.txt\")\n",
    "        elif choice == \"9\":\n",
    "            load_from_file(\"books_data.txt\")\n",
    "        elif choice == \"10\":\n",
    "            print(\"Goodbye!\")\n",
    "            break\n",
    "        else:\n",
    "            print(\"Invalid option. Try again.\")\n",
    "\n",
    "\n",
    "if __name__ == \"__main__\": # This line checks how the Python file is being run.\n",
    "    menu()\n"
   ]
  },
  {
   "cell_type": "code",
   "execution_count": null,
   "id": "11cfa0df-4f6d-417c-bc4d-a6a3db53df55",
   "metadata": {},
   "outputs": [],
   "source": []
  }
 ],
 "metadata": {
  "kernelspec": {
   "display_name": "Python 3 (ipykernel)",
   "language": "python",
   "name": "python3"
  },
  "language_info": {
   "codemirror_mode": {
    "name": "ipython",
    "version": 3
   },
   "file_extension": ".py",
   "mimetype": "text/x-python",
   "name": "python",
   "nbconvert_exporter": "python",
   "pygments_lexer": "ipython3",
   "version": "3.11.7"
  }
 },
 "nbformat": 4,
 "nbformat_minor": 5
}
